{
 "cells": [
  {
   "cell_type": "code",
   "execution_count": 4,
   "id": "21f016fe-0b1e-42bc-a311-450ecf33d07c",
   "metadata": {},
   "outputs": [
    {
     "name": "stderr",
     "output_type": "stream",
     "text": [
      "I0000 00:00:1745903081.617236 9680029 gl_context.cc:369] GL version: 2.1 (2.1 Metal - 89.3), renderer: Apple M2\n",
      "W0000 00:00:1745903081.621119 9682140 inference_feedback_manager.cc:114] Feedback manager requires a model with a single signature inference. Disabling support for feedback tensors.\n",
      "W0000 00:00:1745903081.626040 9682140 inference_feedback_manager.cc:114] Feedback manager requires a model with a single signature inference. Disabling support for feedback tensors.\n"
     ]
    },
    {
     "name": "stdout",
     "output_type": "stream",
     "text": [
      "✅ 기준 자세 저장 완료!\n"
     ]
    },
    {
     "name": "stderr",
     "output_type": "stream",
     "text": [
      "2025-04-29 14:05:23.955 python[83036:9680029] _TIPropertyValueIsValid called with 16 on nil context!\n",
      "2025-04-29 14:05:23.955 python[83036:9680029] imkxpc_getApplicationProperty:reply: called with incorrect property value 16, bailing.\n",
      "2025-04-29 14:05:23.955 python[83036:9680029] Text input context does not respond to _valueForTIProperty:\n",
      "2025-04-29 14:05:26.688 python[83036:9680029] _TIPropertyValueIsValid called with 16 on nil context!\n",
      "2025-04-29 14:05:26.688 python[83036:9680029] imkxpc_getApplicationProperty:reply: called with incorrect property value 16, bailing.\n",
      "2025-04-29 14:05:26.688 python[83036:9680029] Text input context does not respond to _valueForTIProperty:\n"
     ]
    },
    {
     "ename": "SystemExit",
     "evalue": "",
     "output_type": "error",
     "traceback": [
      "An exception has occurred, use %tb to see the full traceback.\n",
      "\u001b[0;31mSystemExit\u001b[0m\n"
     ]
    }
   ],
   "source": [
    "import cv2\n",
    "import mediapipe as mp\n",
    "import sys\n",
    "import serial\n",
    "\n",
    "arduino = serial.Serial('/dev/tty.usbmodem1101', 9600)\n",
    "\n",
    "# MediaPipe 초기화\n",
    "mp_face_mesh = mp.solutions.face_mesh\n",
    "face_mesh = mp_face_mesh.FaceMesh()\n",
    "\n",
    "# 웹캠 켜기\n",
    "cap = cv2.VideoCapture(0)\n",
    "\n",
    "# 창 이름 설정\n",
    "window_name = 'Posture Detection'\n",
    "cv2.namedWindow(window_name, cv2.WINDOW_NORMAL)\n",
    "\n",
    "# 폰트 설정\n",
    "font = cv2.FONT_HERSHEY_DUPLEX\n",
    "\n",
    "baseline_chin_y = None\n",
    "baseline_ear_z = None\n",
    "measured = False\n",
    "\n",
    "# 튜닝 가능한 값\n",
    "chin_y_threshold = 20  # 턱 Y좌표 기준 변화량\n",
    "ear_z_threshold = 0.02  # 귀 Z좌표 기준 변화량\n",
    "\n",
    "while cap.isOpened():\n",
    "    success, image = cap.read()\n",
    "    if not success:\n",
    "        break\n",
    "\n",
    "    image_rgb = cv2.cvtColor(image, cv2.COLOR_BGR2RGB)\n",
    "    results = face_mesh.process(image_rgb)\n",
    "    image_height, image_width, _ = image.shape\n",
    "\n",
    "    key = cv2.waitKey(5)\n",
    "\n",
    "    if results.multi_face_landmarks:\n",
    "        for face_landmarks in results.multi_face_landmarks:\n",
    "            # 랜드마크 추출\n",
    "            left_ear = face_landmarks.landmark[33]\n",
    "            right_ear = face_landmarks.landmark[263]\n",
    "            chin = face_landmarks.landmark[152]\n",
    "\n",
    "            # 좌표 변환\n",
    "            left_ear_pos = (int(left_ear.x * image_width), int(left_ear.y * image_height))\n",
    "            right_ear_pos = (int(right_ear.x * image_width), int(right_ear.y * image_height))\n",
    "            chin_pos = (int(chin.x * image_width), int(chin.y * image_height))\n",
    "\n",
    "            chin_y = chin_pos[1]\n",
    "            ear_z = (left_ear.z + right_ear.z) / 2  # 양쪽 귀 평균 z값\n",
    "\n",
    "            # 얼굴 랜드마크 표시\n",
    "            cv2.circle(image, left_ear_pos, 4, (0, 255, 0), -1)\n",
    "            cv2.circle(image, right_ear_pos, 4, (0, 255, 0), -1)\n",
    "            cv2.circle(image, chin_pos, 4, (0, 0, 255), -1)\n",
    "\n",
    "            # 텍스트 출력\n",
    "            cv2.putText(image, f'Chin Y: {chin_y:.0f}', (20, 40),\n",
    "                        font, 0.8, (50, 150, 255), 2)\n",
    "\n",
    "            if not measured:\n",
    "                cv2.putText(image, \"Sit upright and press 'S' to save baseline\", (20, 80),\n",
    "                            font, 0.7, (0, 0, 255), 2)\n",
    "\n",
    "                if key == ord('s'):\n",
    "                    baseline_chin_y = chin_y\n",
    "                    baseline_ear_z = ear_z\n",
    "                    measured = True\n",
    "                    print(\"✅ 기준 자세 저장 완료!\")\n",
    "            else:\n",
    "                chin_y_diff = chin_y - baseline_chin_y\n",
    "                ear_z_diff = baseline_ear_z - ear_z\n",
    "\n",
    "                chin_score = min(max((chin_y_diff / chin_y_threshold) * 100, 0), 100)\n",
    "                ear_score = min(max((ear_z_diff / ear_z_threshold) * 100, 0), 100)\n",
    "\n",
    "                score = max(chin_score, ear_score)\n",
    "\n",
    "                cv2.putText(image, f'Turtle Neck Score: {score:.1f}/100', (20, 80),\n",
    "                            font, 0.8, (0, 100, 255), 2)\n",
    "                if score > 50:\n",
    "                    cv2.putText(image, \"Warning: Please fix your posture!\", (20, 120),\n",
    "                    font, 0.8, (0, 0, 255), 2)\n",
    "                    arduino.write(b'1')\n",
    "                else:\n",
    "                    arduino.write(b'0')\n",
    "\n",
    "\n",
    "    # 화면 출력\n",
    "    cv2.imshow(window_name, image)\n",
    "\n",
    "    if key == 27:  # ESC 누르면 종료\n",
    "        break\n",
    "\n",
    "# 종료 처리\n",
    "cap.release()\n",
    "cv2.destroyWindow(window_name)\n",
    "cv2.waitKey(1)\n",
    "sys.exit()\n"
   ]
  },
  {
   "cell_type": "code",
   "execution_count": null,
   "id": "2957a23f-a642-4b7b-8fc0-462b8fdbecd8",
   "metadata": {},
   "outputs": [],
   "source": []
  }
 ],
 "metadata": {
  "kernelspec": {
   "display_name": "Python [conda env:base] *",
   "language": "python",
   "name": "conda-base-py"
  },
  "language_info": {
   "codemirror_mode": {
    "name": "ipython",
    "version": 3
   },
   "file_extension": ".py",
   "mimetype": "text/x-python",
   "name": "python",
   "nbconvert_exporter": "python",
   "pygments_lexer": "ipython3",
   "version": "3.12.7"
  }
 },
 "nbformat": 4,
 "nbformat_minor": 5
}
